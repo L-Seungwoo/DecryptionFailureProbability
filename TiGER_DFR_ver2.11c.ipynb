{
 "cells": [
  {
   "cell_type": "code",
   "execution_count": 1,
   "id": "11c52859",
   "metadata": {},
   "outputs": [],
   "source": [
    "from tqdm.notebook import tqdm\n",
    "import matplotlib.pyplot as plt\n",
    "\n",
    "RR = RealField(5000)\n",
    "Q.<x> = LaurentPolynomialRing(QQ)\n",
    "\n",
    "sp_t_poly = 1/2*x**-1 + 1/2*x\n",
    "\n",
    "# TiGER v2.1\n",
    "TiGER256 = {}\n",
    "TiGER256['n'] = 1024\n",
    "TiGER256['q'] = 256\n",
    "TiGER256['p'] = 128\n",
    "TiGER256['k1'] = 128\n",
    "TiGER256['k2'] = 4\n",
    "TiGER256['h_s'] = 196\n",
    "TiGER256['h_r'] = 196\n",
    "TiGER256['h_e'] = 32\n",
    "TiGER256['f'] = 5\n",
    "TiGER256['thres'] = 256/2\n",
    "\n",
    "TiGER192 = {}\n",
    "TiGER192['n'] = 1024\n",
    "TiGER192['q'] = 256\n",
    "TiGER192['p'] = 128\n",
    "TiGER192['k1'] = 64\n",
    "TiGER192['k2'] = 4\n",
    "TiGER192['h_s'] = 132\n",
    "TiGER192['h_r'] = 132\n",
    "TiGER192['h_e'] = 32\n",
    "TiGER192['f'] = 5\n",
    "TiGER192['thres'] = 256/2\n",
    "\n",
    "TiGER128 = {}\n",
    "TiGER128['n'] = 512\n",
    "TiGER128['q'] = 256\n",
    "TiGER128['p'] = 128\n",
    "TiGER128['k1'] = 64 \n",
    "TiGER128['k2'] = 16\n",
    "TiGER128['h_s'] = 142\n",
    "TiGER128['h_r'] = 110\n",
    "TiGER128['h_e'] = 32\n",
    "TiGER128['f'] = 3\n",
    "TiGER128['thres'] = 256/2\n"
   ]
  },
  {
   "cell_type": "code",
   "execution_count": 2,
   "id": "7709d27f",
   "metadata": {},
   "outputs": [],
   "source": [
    "def plot_poly_dist_(poly):\n",
    "    plt.plot(poly.exponents(), poly.coefficients())\n",
    "    plt.show()\n",
    "\n",
    "def unif_error_poly_(p, q):\n",
    "    \n",
    "    err_max = int(q/p/2)\n",
    "    err_list = [i for i in range(err_max+1)]\n",
    "    poly = 0\n",
    "    for i in err_list:\n",
    "        if i == 0 :\n",
    "            poly += 1\n",
    "        elif i == err_max :\n",
    "            poly += 1/2*x**err_max + 1/2*x**(-err_max)\n",
    "        else :\n",
    "            poly += x**i + x**(-i)\n",
    "    \n",
    "    return poly/(2*err_max)\n",
    "\n",
    "\n",
    "def e2_poly_(p_prime, q): # Why this way?\n",
    "    \n",
    "    err_nums = q/p_prime\n",
    "    zero_pos = int(err_nums/2-1)\n",
    "    poly = 0\n",
    "    for i in range(err_nums):\n",
    "        if not i == zero_pos:\n",
    "            poly += x**(i-zero_pos)\n",
    "        else :\n",
    "            poly += 1\n",
    "    \n",
    "    return poly/err_nums\n",
    "    \n",
    "def dist_mult_(poly1, poly2):\n",
    "    \n",
    "    poly = 0\n",
    "    expo_u = vector(poly1.exponents())\n",
    "    expo_v = vector(poly2.exponents())\n",
    "    coef_u = vector(poly1.coefficients())\n",
    "    coef_v = vector(poly2.coefficients())\n",
    "    \n",
    "    for i, rows in enumerate(expo_u.tensor_product(expo_v)):\n",
    "        for j, elts in enumerate(rows):\n",
    "            poly += coef_u.tensor_product(coef_v)[i][j]*x**elts\n",
    "    \n",
    "    return poly\n",
    "\n",
    "def DGdict_to_DGpoly_(DGdict):\n",
    "    DGpoly = 0\n",
    "    for i in DGdict :\n",
    "        if i == 0 :\n",
    "            DGpoly += DGdict[i]*x**i\n",
    "        else :\n",
    "            DGpoly += DGdict[i]*x**i + DGdict[i]*x**-i\n",
    "    DGpoly = DGpoly/DGpoly(1)\n",
    "    \n",
    "    return DGpoly\n",
    "\n",
    "def dist_of_squared_(poly):\n",
    "    res = 0\n",
    "    for i, expo in enumerate(poly.exponents()):\n",
    "        res += poly.coefficients()[i]*x**(expo**2)\n",
    "    \n",
    "    return res\n",
    "\n",
    "def bayes_poly_list_2_(post, pri, n):\n",
    "    res = []\n",
    "    \n",
    "    squared_pri = dist_of_squared_(pri)\n",
    "    sum_squared_pri = squared_pri**n\n",
    "    \n",
    "    for expo_post in post.exponents():\n",
    "        numerator_poly = (squared_pri**(n-1))*x**(expo_post**2)\n",
    "        temp_res = 0\n",
    "        \n",
    "        for expo_pri in sum_squared_pri.exponents():\n",
    "            temp_res += (numerator_poly[expo_pri]/sum_squared_pri[expo_pri])*x**expo_pri\n",
    "            \n",
    "        temp_res *= post[expo_post]\n",
    "        res.append(temp_res)\n",
    "\n",
    "        \n",
    "    return res\n",
    "\n",
    "def bayes_poly_list_(post, pri, n):\n",
    "    res = [0 for i in range(n*(max(post.exponents()))**2+1)]\n",
    "    \n",
    "    squared_pri = dist_of_squared_(pri)\n",
    "    sum_squared_pri = squared_pri**n\n",
    "    \n",
    "    for expo_post in post.exponents():\n",
    "        numerator_poly = (squared_pri**(n-1))*x**(expo_post**2)\n",
    "        \n",
    "        for expo_pri in sum_squared_pri.exponents():\n",
    "            #print(expo_pri)\n",
    "            res[expo_pri] += post[expo_post]*(numerator_poly[expo_pri]/sum_squared_pri[expo_pri])*x**expo_post \n",
    "            \n",
    "\n",
    "        \n",
    "    return res\n",
    "\n",
    "def bayes_poly_dict_(post, pri, n):\n",
    "    res = {}\n",
    "    \n",
    "    squared_pri = dist_of_squared_(pri)\n",
    "    sum_squared_pri = squared_pri**n\n",
    "    \n",
    "    for expo_post in post.exponents():\n",
    "        numerator_poly = (squared_pri**(n-1))*x**(expo_post**2)\n",
    "        \n",
    "        for expo_pri in sum_squared_pri.exponents():\n",
    "            #print(expo_pri)\n",
    "            res.setdefault((expo_pri, sum_squared_pri[expo_pri]), 0)\n",
    "            res[(expo_pri, sum_squared_pri[expo_pri])] += post[expo_post]*(numerator_poly[expo_pri]/sum_squared_pri[expo_pri])*x**expo_post \n",
    "            \n",
    "\n",
    "        \n",
    "    return res\n",
    "      \n",
    "def cumul_binom_(p, n, k):\n",
    "    res = 0\n",
    "    for i in range(k+1):\n",
    "        res += binomial(n, i)*(p**i)*(1-p)**(n-i)\n",
    "        \n",
    "    return res\n",
    "\n",
    "def var_of_poly_(poly):\n",
    "    if poly == 1:\n",
    "        var = 0\n",
    "    else :\n",
    "        var = 0\n",
    "        for poly_expo in poly.exponents():\n",
    "            var += (poly_expo**2)*poly[poly_expo]\n",
    "        \n",
    "    return var"
   ]
  },
  {
   "cell_type": "code",
   "execution_count": 5,
   "id": "5edb1e5d",
   "metadata": {},
   "outputs": [],
   "source": [
    "def TiGER_DFP(scheme):\n",
    "    n = scheme['n']\n",
    "    p = scheme['p']\n",
    "    q = scheme['q']\n",
    "    k1 = scheme['k1']\n",
    "    k2 = scheme['k2']\n",
    "    h_r = scheme['h_r']\n",
    "    h_e = scheme['h_e']\n",
    "    h_s = scheme['h_s']\n",
    "    f = scheme['f']\n",
    "    #f = 0\n",
    "    thres = scheme['thres']\n",
    "    \n",
    "    uA_bayes = unif_error_poly_(p, q)\n",
    "    uA_bayes = bayes_poly_dict_(uA_bayes, uA_bayes, n)\n",
    "    \n",
    "    uB_prime_bayes =  unif_error_poly_(k1, q)\n",
    "    uB_prime_bayes = bayes_poly_dict_(uB_prime_bayes, uB_prime_bayes, n)\n",
    "    \n",
    "    uB_double_prime = unif_error_poly_(k2, q)\n",
    "    \n",
    "    e1 = (h_e/n)*sp_t_poly+1-h_e/n\n",
    "    s = (h_s/n)*sp_t_poly+1-h_s/n\n",
    "    \n",
    "    e1s = s**h_e\n",
    "    \n",
    "    g = uB_double_prime*e1\n",
    "    \n",
    "    g = g**2\n",
    "    #print(g)\n",
    "    \n",
    "    pfail = 0\n",
    "    \n",
    "      \n",
    "    for (uA, uA_prob) in tqdm(uA_bayes, leave=False):\n",
    "        for (uB_prime, uB_prime_prob) in uB_prime_bayes:\n",
    "            pbitfail = 0\n",
    "            \n",
    "            if uA_prob*uB_prime_prob < 2**-300:\n",
    "                continue\n",
    "            \n",
    "            \n",
    "            #print(uA, uA_bayes[(uA, uA_prob)])\n",
    "            #print(uB_prime, uB_prime_bayes[(uB_prime, uB_prime_prob)])\n",
    "            \n",
    "            #gaussian_std = sqrt(RR(h_r*var_of_poly_(uA_bayes[(uA, uA_prob)])+h_s*var_of_poly_(uB_prime_bayes[(uB_prime, uB_prime_prob)])+h_s*var_of_poly_(e1)+var_of_poly_(g)))\n",
    "            \n",
    "            #g 텀 뺀거\n",
    "            # D2 인코딩이면 오류가 두배?\n",
    "            gaussian_std = sqrt(RR(2*(h_r*var_of_poly_(uA_bayes[(uA, uA_prob)])+h_s*var_of_poly_(uB_prime_bayes[(uB_prime, uB_prime_prob)])+h_s*var_of_poly_(e1))))\n",
    "            # 오류 두배 안 한것\n",
    "            #gaussian_std = sqrt(RR(h_r*var_of_poly_(uA_bayes[(uA, uA_prob)])+h_s*var_of_poly_(uB_prime_bayes[(uB_prime, uB_prime_prob)])+h_s*var_of_poly_(e1)))\n",
    "            \n",
    "            T = RealDistribution('gaussian', gaussian_std)\n",
    "            \n",
    "            for g_expo in g.exponents():\n",
    "                pbitfail += RR(1-T.cum_distribution_function(RR(thres-g_expo))+T.cum_distribution_function(RR(-thres-g_expo)))*RR(g[g_expo])\n",
    "                \n",
    "            pfail += RR((1-cumul_binom_(pbitfail, n, f)))*RR(uA_prob)*RR(uB_prime_prob)\n",
    "            #print(log(pfail,2).n(100))\n",
    "    \n",
    "    return pfail.n(1000), log(pfail, 2).n(1000)"
   ]
  },
  {
   "cell_type": "code",
   "execution_count": 6,
   "id": "47f84696",
   "metadata": {},
   "outputs": [
    {
     "data": {
      "application/vnd.jupyter.widget-view+json": {
       "model_id": "",
       "version_major": 2,
       "version_minor": 0
      },
      "text/plain": [
       "  0%|          | 0/513 [00:00<?, ?it/s]"
      ]
     },
     "metadata": {},
     "output_type": "display_data"
    },
    {
     "data": {
      "text/plain": [
       "(6.70463846104628546679219269130365554002355760876669110718092316963395718659902090932599813945468571841256212730697672434784593408195529210227145581796108957029162942657742771754840028547200891521188353788984607109244042104231321883430113236826243969660138347389464458377105892195289928291041951739916e-18,\n",
       " -57.0495461692086797464113853782274370872327002977524951970639928214347012856511014604327737151302127377200198237695213434393825839817702249961920426916044412287746813694675847205100372460048777147242715105601432520147384083130273208269063589589670725190225442509784269808049516829303059945898849443031)"
      ]
     },
     "execution_count": 6,
     "metadata": {},
     "output_type": "execute_result"
    }
   ],
   "source": [
    "TiGER_DFP(TiGER128)"
   ]
  },
  {
   "cell_type": "code",
   "execution_count": 7,
   "id": "70da080c",
   "metadata": {},
   "outputs": [
    {
     "data": {
      "application/vnd.jupyter.widget-view+json": {
       "model_id": "",
       "version_major": 2,
       "version_minor": 0
      },
      "text/plain": [
       "  0%|          | 0/1025 [00:00<?, ?it/s]"
      ]
     },
     "metadata": {},
     "output_type": "display_data"
    },
    {
     "data": {
      "text/plain": [
       "(1.36979993314068961396173484239839873306200393374437317996769083497358891950345049773315456619932161433037483970792195898370830963913671563750552926197841517704095281525750450943964550015647066386263860733242015111303011739172092518142266249322256927564191262157695536295874284921664589272912655424503e-10,\n",
       " -32.7653157538945007200901041239525740071530114792524300357038788403944598264974160850952819228829599961921346743866086757251949432558264212011104140630033875151145068749339753853981270786005175352877554451659525124414899784995588923591968448539711436187883095631930523091116208182970227065929607211825)"
      ]
     },
     "execution_count": 7,
     "metadata": {},
     "output_type": "execute_result"
    }
   ],
   "source": [
    "TiGER_DFP(TiGER192)"
   ]
  },
  {
   "cell_type": "code",
   "execution_count": 8,
   "id": "c8a626c4",
   "metadata": {},
   "outputs": [
    {
     "data": {
      "application/vnd.jupyter.widget-view+json": {
       "model_id": "",
       "version_major": 2,
       "version_minor": 0
      },
      "text/plain": [
       "  0%|          | 0/1025 [00:00<?, ?it/s]"
      ]
     },
     "metadata": {},
     "output_type": "display_data"
    },
    {
     "data": {
      "text/plain": [
       "(2.35653850082936776694819514608378114849586756141504103359976533163581835405379930584595744332066900326690499725139994661154061601423103312899578389338636431521765768797884175236988057101272721879414972730328282515505156541366081300738057772622575994476491983554082493489077734176607178531849674275547e-15,\n",
       " -48.5922521711946604113942223426402187861513954214346817692385910368745022793376048665040611882967637927247764377784443319508029311710900237275094260460142594374943043469977375882040437327704779963310866579126165433280996164986630168908411559958132300565624520727852343791842286434101737487391724668671)"
      ]
     },
     "execution_count": 8,
     "metadata": {},
     "output_type": "execute_result"
    }
   ],
   "source": [
    "TiGER_DFP(TiGER256)"
   ]
  },
  {
   "cell_type": "code",
   "execution_count": null,
   "id": "46076913",
   "metadata": {},
   "outputs": [],
   "source": []
  }
 ],
 "metadata": {
  "kernelspec": {
   "display_name": "SageMath 9.5",
   "language": "sage",
   "name": "sagemath"
  },
  "language_info": {
   "codemirror_mode": {
    "name": "ipython",
    "version": 3
   },
   "file_extension": ".py",
   "mimetype": "text/x-python",
   "name": "python",
   "nbconvert_exporter": "python",
   "pygments_lexer": "ipython3",
   "version": "3.10.6"
  }
 },
 "nbformat": 4,
 "nbformat_minor": 5
}
