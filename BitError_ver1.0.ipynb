{
 "cells": [
  {
   "cell_type": "code",
   "execution_count": 1,
   "id": "eaa96939",
   "metadata": {},
   "outputs": [],
   "source": [
    "SMAUG128 = {}\n",
    "SMAUG128['n'] = 256\n",
    "SMAUG128['p'] = 256\n",
    "SMAUG128['q'] = 1024\n",
    "SMAUG128['p_prime'] = 32\n",
    "SMAUG128['k'] = 2\n",
    "SMAUG128['h_s'] = 140\n",
    "SMAUG128['h_r'] = 132\n",
    "SMAUG128['sigma'] = 1.0625\n",
    "\n",
    "SMAUG192 = {}\n",
    "SMAUG192['n'] = 256\n",
    "SMAUG192['p'] = 256\n",
    "SMAUG192['q'] = 2048\n",
    "SMAUG192['p_prime'] = 256\n",
    "SMAUG192['k'] = 3\n",
    "SMAUG192['h_s'] = 198\n",
    "SMAUG192['h_r'] = 151\n",
    "SMAUG192['sigma'] = 1.453713\n",
    "\n",
    "SMAUG256 = {}\n",
    "SMAUG256['n'] = 256\n",
    "SMAUG256['p'] = 256\n",
    "SMAUG256['q'] = 2048\n",
    "SMAUG256['p_prime'] = 64\n",
    "SMAUG256['k'] = 5\n",
    "SMAUG256['h_s'] = 176\n",
    "SMAUG256['h_r'] = 160\n",
    "SMAUG256['sigma'] = 1.0625\n",
    "\n",
    "#DGdict = {0: 403163305, 1: 258898250, 2: 68560420, 3: 7487107, 4: 337172, 5: 6262, 6: 48} # sigma = 1.0625\n",
    "#DGdict = {0: 8993, 1: 7098, 2: 3490, 3: 1069, 4: 204, 5: 24, 6: 2} # sigma = 1.453713\n",
    "\n",
    "TiGER256 = {}\n",
    "TiGER256['p'] = 128\n",
    "TiGER256['q'] = 256\n",
    "TiGER256['k1'] = 128 \n",
    "TiGER256['k2'] = 4\n",
    "TiGER256['h_s'] = 198\n",
    "TiGER256['h_r'] = 198\n",
    "TiGER256['h_e'] = 32\n",
    "TiGER256['n'] = 1024\n",
    "TiGER256['f'] = 5\n",
    "TiGER256['thres'] = 256/2\n",
    "\n",
    "TiGER192 = {}\n",
    "TiGER192['p'] = 64\n",
    "TiGER192['q'] = 256\n",
    "TiGER192['k1'] = 64 \n",
    "TiGER192['k2'] = 4\n",
    "TiGER192['h_s'] = 84\n",
    "TiGER192['h_r'] = 84\n",
    "TiGER192['h_e'] = 84\n",
    "TiGER192['n'] = 1024\n",
    "TiGER192['f'] = 5\n",
    "TiGER192['thres'] = 256/2\n",
    "\n",
    "TiGER128 = {}\n",
    "TiGER128['p'] = 128\n",
    "TiGER128['q'] = 256 \n",
    "TiGER128['k1'] = 64 \n",
    "TiGER128['k2'] = 64 \n",
    "TiGER128['h_s'] = 160\n",
    "TiGER128['h_r'] = 128\n",
    "TiGER128['h_e'] = 32\n",
    "TiGER128['n'] = 512\n",
    "TiGER128['f'] = 3\n",
    "TiGER128['thres'] = 256/2"
   ]
  },
  {
   "cell_type": "code",
   "execution_count": 2,
   "id": "5a21bca1",
   "metadata": {},
   "outputs": [],
   "source": [
    "RR = RealField(5000)\n",
    "R.<x> = LaurentPolynomialRing(QQ)\n",
    "sp_t_poly = 1/2*x**-1 + 1/2*x"
   ]
  },
  {
   "cell_type": "code",
   "execution_count": 3,
   "id": "18558950",
   "metadata": {},
   "outputs": [],
   "source": [
    "def unif_error_poly_(p, q):\n",
    "    \n",
    "    err_max = int(q/p/2)\n",
    "    err_list = [i for i in range(err_max+1)]\n",
    "    poly = 0\n",
    "    for i in err_list:\n",
    "        if i == 0 :\n",
    "            poly += 1\n",
    "        elif i == err_max :\n",
    "            poly += 1/2*x**err_max + 1/2*x**(-err_max)\n",
    "        else :\n",
    "            poly += x**i + x**(-i)\n",
    "    \n",
    "    return poly/(2*err_max)\n",
    "\n",
    "\n",
    "def e2_poly_(p_prime, q): # Why this way?\n",
    "    \n",
    "    err_nums = q/p_prime\n",
    "    zero_pos = int(err_nums/2-1)\n",
    "    poly = 0\n",
    "    for i in range(err_nums):\n",
    "        if not i == zero_pos:\n",
    "            poly += x**(i-zero_pos)\n",
    "        else :\n",
    "            poly += 1\n",
    "    \n",
    "    return poly/err_nums\n",
    "    \n",
    "def dist_mult_(poly1, poly2):\n",
    "    \n",
    "    poly = 0\n",
    "    expo_u = vector(poly1.exponents())\n",
    "    expo_v = vector(poly2.exponents())\n",
    "    coef_u = vector(poly1.coefficients())\n",
    "    coef_v = vector(poly2.coefficients())\n",
    "    \n",
    "    for i, rows in enumerate(expo_u.tensor_product(expo_v)):\n",
    "        for j, elts in enumerate(rows):\n",
    "            poly += coef_u.tensor_product(coef_v)[i][j]*x**elts\n",
    "    \n",
    "    return poly\n",
    "\n",
    "def DGdict_to_DGpoly_(DGdict):\n",
    "    DGpoly = 0\n",
    "    for i in DGdict :\n",
    "        if i == 0 :\n",
    "            DGpoly += DGdict[i]*x**i\n",
    "        else :\n",
    "            DGpoly += DGdict[i]*x**i + DGdict[i]*x**-i\n",
    "    DGpoly = DGpoly/DGpoly(1)\n",
    "    \n",
    "    return DGpoly"
   ]
  },
  {
   "cell_type": "code",
   "execution_count": 10,
   "id": "92af4ea9",
   "metadata": {},
   "outputs": [],
   "source": [
    "def SMAUG_DFP(scheme):\n",
    "    n = scheme['n']\n",
    "    p = scheme['p']\n",
    "    q = scheme['q']\n",
    "    p_prime = scheme['p_prime']\n",
    "    h_s = scheme['h_s']\n",
    "    h_r = scheme['h_r']\n",
    "    sigma = scheme['sigma']\n",
    "    \n",
    "    if not scheme == SMAUG192 :\n",
    "        DGdict = {0: 403163305, 1: 258898250, 2: 68560420, 3: 7487107, 4: 337172, 5: 6262, 6: 48}\n",
    "    else :\n",
    "        DGdict = {0: 8993, 1: 7098, 2: 3490, 3: 1069, 4: 204, 5: 24, 6: 2}\n",
    "    \n",
    "    e_poly = DGdict_to_DGpoly_(DGdict)\n",
    "    e1_poly = unif_error_poly_(p, q)\n",
    "    #e2_poly = e2_poly_(p_prime, q)\n",
    "    e2_poly = unif_error_poly_(p_prime, q)\n",
    "    \n",
    "    \n",
    "    #print(\"e_poly : \", e_poly)\n",
    "    #print(\"e1_poly : \", e1_poly)\n",
    "    #print(\"e2_poly : \", e2_poly)\n",
    "    #print(\"sp_t_poly : \", sp_t_poly)\n",
    "    \n",
    "    \n",
    "    first = (dist_mult_(e_poly, sp_t_poly))**h_r\n",
    "    second = (dist_mult_(e1_poly, sp_t_poly))**h_s\n",
    "    last = e2_poly\n",
    "    \n",
    "    bit_err_poly = first*second*last\n",
    "    \n",
    "    bit_err_prob = 0\n",
    "    \n",
    "    for i, coef in enumerate(bit_err_poly.coefficients()):\n",
    "        if bit_err_poly.exponents()[i] > q/4 :\n",
    "            bit_err_prob += coef\n",
    "    \n",
    "    dfp = 1-(1-bit_err_prob)**n\n",
    "    \n",
    "    return dfp.n(100), log(dfp, 2).n(100)\n",
    "\n",
    "def TiGER_bit_error_prob(scheme):\n",
    "    \n",
    "    n = scheme['n']\n",
    "    p = scheme['p']\n",
    "    q = scheme['q']\n",
    "    k1 = scheme['k1']\n",
    "    k2 = scheme['k2']\n",
    "    h_r = scheme['h_r']\n",
    "    h_e = scheme['h_e']\n",
    "    h_s = scheme['h_s']\n",
    "    thres = scheme['thres']\n",
    "    \n",
    "    uA = unif_error_poly_(p, q)\n",
    "    \n",
    "    eB_p = sp_t_poly*(h_e/n)+(1-h_e/n)\n",
    "    uB_p = unif_error_poly_(k1, q)\n",
    "    \n",
    "    \n",
    "    uB_dp = unif_error_poly_(k2, q)\n",
    "    eB_dp = sp_t_poly*(h_e/n)+(1-h_e/n)\n",
    "    \n",
    "    \n",
    "    first = (dist_mult_(eB_p*uB_p, sp_t_poly))**h_s\n",
    "    second = (dist_mult_(uA, sp_t_poly))**h_r\n",
    "    last = eB_dp*uB_dp\n",
    "    \n",
    "    bit_err_poly = first*second*last\n",
    "    \n",
    "    bit_err_prob = 0\n",
    "    \n",
    "    for i, coef in enumerate(bit_err_poly.coefficients()):\n",
    "        if bit_err_poly.exponents()[i] > thres :\n",
    "            bit_err_prob += coef\n",
    "    \n",
    "    dfp = RR(1-(1-bit_err_prob)**n)\n",
    "    \n",
    "    return dfp.n(100), log(dfp, 2).n(100)"
   ]
  },
  {
   "cell_type": "code",
   "execution_count": 9,
   "id": "1988f33a",
   "metadata": {},
   "outputs": [
    {
     "data": {
      "text/plain": [
       "(2.5485408384989069964663542040e-37, -121.56166803927332631355317713)"
      ]
     },
     "execution_count": 9,
     "metadata": {},
     "output_type": "execute_result"
    }
   ],
   "source": [
    "#SMAUG_DFP(SMAUG128)"
   ]
  },
  {
   "cell_type": "code",
   "execution_count": 14,
   "id": "a0a9f46d",
   "metadata": {},
   "outputs": [
    {
     "data": {
      "text/plain": [
       "(1.7280517119525174196738141478e-42, -138.73183359446854930130545653)"
      ]
     },
     "execution_count": 14,
     "metadata": {},
     "output_type": "execute_result"
    }
   ],
   "source": [
    "SMAUG_DFP(SMAUG192)"
   ]
  },
  {
   "cell_type": "code",
   "execution_count": 15,
   "id": "eebddf9c",
   "metadata": {},
   "outputs": [
    {
     "data": {
      "text/plain": [
       "(4.5224905566079258484903241515e-52, -170.56314344377816960584031396)"
      ]
     },
     "execution_count": 15,
     "metadata": {},
     "output_type": "execute_result"
    }
   ],
   "source": [
    "SMAUG_DFP(SMAUG256)"
   ]
  },
  {
   "cell_type": "code",
   "execution_count": 11,
   "id": "af7097e8",
   "metadata": {},
   "outputs": [
    {
     "data": {
      "text/plain": [
       "(7.7104221457202531189188323916e-11, -33.594399193884657516200360218)"
      ]
     },
     "execution_count": 11,
     "metadata": {},
     "output_type": "execute_result"
    }
   ],
   "source": [
    "TiGER_bit_error_prob(TiGER128)"
   ]
  },
  {
   "cell_type": "code",
   "execution_count": 12,
   "id": "bdac885c",
   "metadata": {},
   "outputs": [
    {
     "data": {
      "text/plain": [
       "(2.9931287036800042706540284064e-8, -24.993770443454086995633112309)"
      ]
     },
     "execution_count": 12,
     "metadata": {},
     "output_type": "execute_result"
    }
   ],
   "source": [
    "TiGER_bit_error_prob(TiGER192)"
   ]
  },
  {
   "cell_type": "code",
   "execution_count": 13,
   "id": "39c696d4",
   "metadata": {},
   "outputs": [
    {
     "data": {
      "text/plain": [
       "(1.9401167486248758157519388562e-10, -32.263137478113680066544798392)"
      ]
     },
     "execution_count": 13,
     "metadata": {},
     "output_type": "execute_result"
    }
   ],
   "source": [
    "TiGER_bit_error_prob(TiGER256)"
   ]
  },
  {
   "cell_type": "code",
   "execution_count": 2,
   "id": "055a0a56",
   "metadata": {},
   "outputs": [],
   "source": []
  },
  {
   "cell_type": "code",
   "execution_count": 22,
   "id": "1f5164ce",
   "metadata": {},
   "outputs": [
    {
     "data": {
      "text/plain": [
       "-102.9619077821941149827947422284078755506243563233046733280833868158544092372206747680757465119214232105690250448127913516007066014149988729289100979121353136845947500225450729199204796085535096654485014116764305965492299895569913858273750859648347222903055550445861854079253895041216932964557421055874895979620370724630420039990312555413598152803773341002845484959433380394443119490595844721787880692244675140307415870225726421210949576548805772657292030211206042213493238166013718290452528432723470095593484437643714638633615415462511351514927437651023757547256272655664267662581798310127259804204478541713389756673947053216574949286663725578815764768316412678835211144068975135213458478029287369913876656908959194598462052948766903960002119572240145318028046303164808174239383620285711252219935295639556987643646681744343104503717238763625501734136490935811468184207504102343419563931588854997848212344595375211701717406721419994590506434257283135529020971429230296850165797130758323252125893992795051562596729749923541804762338984177503489915134032037050189974073733107875140203206677377936620864629427261358213477379335681404515103060621084766576063501612077609461297831529319106257773394324066639111834775101876280610399123779193429756510744426522522805387119829632711365843866502342075411100675699780258819958489524275029920678863542130278890225018054618086212803590479213159601249265213279934332289196899004796858524108974701011316103536460591135405503746128361841601263047070349521219279534474815"
      ]
     },
     "execution_count": 22,
     "metadata": {},
     "output_type": "execute_result"
    }
   ],
   "source": []
  },
  {
   "cell_type": "code",
   "execution_count": 30,
   "id": "6da04c53",
   "metadata": {},
   "outputs": [
    {
     "data": {
      "text/plain": [
       "-143.0730245065084343812365828317154647873476590796543363567779962299836469726937415272554431640400620554856187148895540574553951686619609350871054423055968218719735193015596083933907082359476055107784981817698930853046883336703230042946021959170012044664234823313399990619773640745779102145056450992801115128696506890697435689687992460872004615454532570238828948548573874071130328614635652818250639848957769522530067754509874450426433369905907062677287857704887121737201782268299639758253661705243804514083689300879446973576983964115073739520354130322790151261147058536334061250214085265383922359458273342346051722838285167593938760704884690326760686504947342203426084270997404945765265927244055062481613013352773764770032055936377320707434416259422938573093887721329627362961720810678994511762594090602277392929363566708108118413674676406026261153966366968432226358043600063320009335394794580103575158330326820755131417309241428561674994676784215295401396377387501125681483953411767802227287487748266538849368280664910935113864523007820263915164223149554347230799724403932603611369331546272762976970170465085545021267390112079312305873966742512353041217842655065259479749587549218612445809201921612000086934772780661919301685831442151319328299431574517221703197662345121965905652812151939354601403678702542730195576852894343832669058719236381890648133877997159230349933887998017398734589110853817573004145133041413094183078786904545701788241624302025449781081909674925321730194378885440380561083824103685"
      ]
     },
     "execution_count": 30,
     "metadata": {},
     "output_type": "execute_result"
    }
   ],
   "source": []
  },
  {
   "cell_type": "code",
   "execution_count": null,
   "id": "d9246b5b",
   "metadata": {},
   "outputs": [],
   "source": []
  }
 ],
 "metadata": {
  "kernelspec": {
   "display_name": "SageMath 9.5",
   "language": "sage",
   "name": "sagemath"
  },
  "language_info": {
   "codemirror_mode": {
    "name": "ipython",
    "version": 3
   },
   "file_extension": ".py",
   "mimetype": "text/x-python",
   "name": "python",
   "nbconvert_exporter": "python",
   "pygments_lexer": "ipython3",
   "version": "3.10.6"
  }
 },
 "nbformat": 4,
 "nbformat_minor": 5
}
