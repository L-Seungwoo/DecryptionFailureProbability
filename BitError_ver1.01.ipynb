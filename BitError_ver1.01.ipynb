{
 "cells": [
  {
   "cell_type": "code",
   "execution_count": 1,
   "id": "eaa96939",
   "metadata": {},
   "outputs": [],
   "source": [
    "SMAUG128 = {}\n",
    "SMAUG128['n'] = 256\n",
    "SMAUG128['p'] = 256\n",
    "SMAUG128['q'] = 1024\n",
    "SMAUG128['p_prime'] = 32\n",
    "SMAUG128['k'] = 2\n",
    "SMAUG128['h_s'] = 140\n",
    "SMAUG128['h_r'] = 132\n",
    "SMAUG128['sigma'] = 1.0625\n",
    "\n",
    "SMAUG192 = {}\n",
    "SMAUG192['n'] = 256\n",
    "SMAUG192['p'] = 256\n",
    "SMAUG192['q'] = 2048\n",
    "SMAUG192['p_prime'] = 256\n",
    "SMAUG192['k'] = 3\n",
    "SMAUG192['h_s'] = 198\n",
    "SMAUG192['h_r'] = 151\n",
    "SMAUG192['sigma'] = 1.453713\n",
    "\n",
    "SMAUG256 = {}\n",
    "SMAUG256['n'] = 256\n",
    "SMAUG256['p'] = 256\n",
    "SMAUG256['q'] = 2048\n",
    "SMAUG256['p_prime'] = 64\n",
    "SMAUG256['k'] = 5\n",
    "SMAUG256['h_s'] = 176\n",
    "SMAUG256['h_r'] = 160\n",
    "SMAUG256['sigma'] = 1.0625\n",
    "\n",
    "#DGdict = {0: 403163305, 1: 258898250, 2: 68560420, 3: 7487107, 4: 337172, 5: 6262, 6: 48} # sigma = 1.0625\n",
    "#DGdict = {0: 8993, 1: 7098, 2: 3490, 3: 1069, 4: 204, 5: 24, 6: 2} # sigma = 1.453713\n",
    "\n",
    "TiGER256 = {}\n",
    "TiGER256['p'] = 128\n",
    "TiGER256['q'] = 256\n",
    "TiGER256['k1'] = 128 \n",
    "TiGER256['k2'] = 4\n",
    "TiGER256['h_s'] = 198\n",
    "TiGER256['h_r'] = 198\n",
    "TiGER256['h_e'] = 32\n",
    "TiGER256['n'] = 1024\n",
    "TiGER256['f'] = 5\n",
    "TiGER256['thres'] = 256/2\n",
    "\n",
    "TiGER192 = {}\n",
    "TiGER192['p'] = 64\n",
    "TiGER192['q'] = 256\n",
    "TiGER192['k1'] = 64 \n",
    "TiGER192['k2'] = 4\n",
    "TiGER192['h_s'] = 84\n",
    "TiGER192['h_r'] = 84\n",
    "TiGER192['h_e'] = 84\n",
    "TiGER192['n'] = 1024\n",
    "TiGER192['f'] = 5\n",
    "TiGER192['thres'] = 256/2\n",
    "\n",
    "TiGER128 = {}\n",
    "TiGER128['p'] = 128\n",
    "TiGER128['q'] = 256 \n",
    "TiGER128['k1'] = 64 \n",
    "TiGER128['k2'] = 64 \n",
    "TiGER128['h_s'] = 160\n",
    "TiGER128['h_r'] = 128\n",
    "TiGER128['h_e'] = 32\n",
    "TiGER128['n'] = 512\n",
    "TiGER128['f'] = 3\n",
    "TiGER128['thres'] = 256/2"
   ]
  },
  {
   "cell_type": "code",
   "execution_count": 2,
   "id": "5a21bca1",
   "metadata": {},
   "outputs": [],
   "source": [
    "RR = RealField(5000)\n",
    "R.<x> = LaurentPolynomialRing(QQ)\n",
    "sp_t_poly = 1/2*x**-1 + 1/2*x"
   ]
  },
  {
   "cell_type": "code",
   "execution_count": 3,
   "id": "18558950",
   "metadata": {},
   "outputs": [],
   "source": [
    "def unif_error_poly_(p, q):\n",
    "    \n",
    "    err_max = int(q/p/2)\n",
    "    err_list = [i for i in range(err_max+1)]\n",
    "    poly = 0\n",
    "    for i in err_list:\n",
    "        if i == 0 :\n",
    "            poly += 1\n",
    "        elif i == err_max :\n",
    "            poly += 1/2*x**err_max + 1/2*x**(-err_max)\n",
    "        else :\n",
    "            poly += x**i + x**(-i)\n",
    "    \n",
    "    return poly/(2*err_max)\n",
    "\n",
    "\n",
    "def e2_poly_(p_prime, q): # Why this way?\n",
    "    \n",
    "    err_nums = q/p_prime\n",
    "    zero_pos = int(err_nums/2-1)\n",
    "    poly = 0\n",
    "    for i in range(err_nums):\n",
    "        if not i == zero_pos:\n",
    "            poly += x**(i-zero_pos)\n",
    "        else :\n",
    "            poly += 1\n",
    "    \n",
    "    return poly/err_nums\n",
    "    \n",
    "def dist_mult_(poly1, poly2):\n",
    "    \n",
    "    poly = 0\n",
    "    expo_u = vector(poly1.exponents())\n",
    "    expo_v = vector(poly2.exponents())\n",
    "    coef_u = vector(poly1.coefficients())\n",
    "    coef_v = vector(poly2.coefficients())\n",
    "    \n",
    "    for i, rows in enumerate(expo_u.tensor_product(expo_v)):\n",
    "        for j, elts in enumerate(rows):\n",
    "            poly += coef_u.tensor_product(coef_v)[i][j]*x**elts\n",
    "    \n",
    "    return poly\n",
    "\n",
    "def DGdict_to_DGpoly_(DGdict):\n",
    "    DGpoly = 0\n",
    "    for i in DGdict :\n",
    "        if i == 0 :\n",
    "            DGpoly += DGdict[i]*x**i\n",
    "        else :\n",
    "            DGpoly += DGdict[i]*x**i + DGdict[i]*x**-i\n",
    "    DGpoly = DGpoly/DGpoly(1)\n",
    "    \n",
    "    return DGpoly"
   ]
  },
  {
   "cell_type": "code",
   "execution_count": 4,
   "id": "92af4ea9",
   "metadata": {},
   "outputs": [],
   "source": [
    "def SMAUG_DFP(scheme):\n",
    "    n = scheme['n']\n",
    "    p = scheme['p']\n",
    "    q = scheme['q']\n",
    "    k = scheme['k']\n",
    "    p_prime = scheme['p_prime']\n",
    "    h_s = scheme['h_s']\n",
    "    h_r = scheme['h_r']\n",
    "    sigma = scheme['sigma']\n",
    "    \n",
    "    if not scheme == SMAUG192 :\n",
    "        DGdict = {0: 403163305, 1: 258898250, 2: 68560420, 3: 7487107, 4: 337172, 5: 6262, 6: 48}\n",
    "    else :\n",
    "        DGdict = {0: 8993, 1: 7098, 2: 3490, 3: 1069, 4: 204, 5: 24, 6: 2}\n",
    "    \n",
    "    e_poly = DGdict_to_DGpoly_(DGdict)\n",
    "    e1_poly = unif_error_poly_(p, q)\n",
    "    e2_poly = e2_poly_(p_prime, q)\n",
    "    #e2_poly = unif_error_poly_(p_prime, q)\n",
    "    \n",
    "    \n",
    "    #print(\"e_poly : \", e_poly)\n",
    "    #print(\"e1_poly : \", e1_poly)\n",
    "    #print(\"e2_poly : \", e2_poly)\n",
    "    #print(\"sp_t_poly : \", sp_t_poly)\n",
    "    \n",
    "    \n",
    "    first = (dist_mult_(e_poly, sp_t_poly))**h_r\n",
    "    second = (dist_mult_(e1_poly, sp_t_poly))**h_s\n",
    "    last = e2_poly\n",
    "    \n",
    "    bit_err_poly = first*second*last\n",
    "    \n",
    "    bit_err_prob = 0\n",
    "    \n",
    "    for expo in bit_err_poly.exponents():\n",
    "        if expo > q/4 :\n",
    "            bit_err_prob += bit_err_poly[expo]\n",
    "    \n",
    "    dfp = RR(1-(1-bit_err_prob)**(n*k))\n",
    "    \n",
    "    return dfp.n(100), log(dfp, 2).n(100)\n",
    "\n",
    "def TiGER_bit_error_prob(scheme):\n",
    "    \n",
    "    n = scheme['n']\n",
    "    p = scheme['p']\n",
    "    q = scheme['q']\n",
    "    k1 = scheme['k1']\n",
    "    k2 = scheme['k2']\n",
    "    h_r = scheme['h_r']\n",
    "    h_e = scheme['h_e']\n",
    "    h_s = scheme['h_s']\n",
    "    thres = scheme['thres']\n",
    "    \n",
    "    uA = unif_error_poly_(p, q)\n",
    "    \n",
    "    eB_p = sp_t_poly*(h_e/n)+(1-h_e/n)\n",
    "    uB_p = unif_error_poly_(k1, q)\n",
    "    \n",
    "    \n",
    "    uB_dp = unif_error_poly_(k2, q)\n",
    "    eB_dp = sp_t_poly*(h_e/n)+(1-h_e/n)\n",
    "    \n",
    "    \n",
    "    first = (dist_mult_(eB_p*uB_p, sp_t_poly))**h_s\n",
    "    second = (dist_mult_(uA, sp_t_poly))**h_r\n",
    "    last = eB_dp*uB_dp\n",
    "    \n",
    "    bit_err_poly = first*second*last\n",
    "    \n",
    "    bit_err_prob = 0\n",
    "    \n",
    "    for i, coef in enumerate(bit_err_poly.coefficients()):\n",
    "        if bit_err_poly.exponents()[i] > thres :\n",
    "            bit_err_prob += coef\n",
    "    \n",
    "    dfp = RR(1-(1-bit_err_prob)**n)\n",
    "    \n",
    "    return dfp.n(100), log(dfp, 2).n(100)"
   ]
  },
  {
   "cell_type": "code",
   "execution_count": 5,
   "id": "1988f33a",
   "metadata": {},
   "outputs": [
    {
     "data": {
      "text/plain": [
       "(6.8654443002145311427677345857e-37, -120.13198642280165389764746732)"
      ]
     },
     "execution_count": 5,
     "metadata": {},
     "output_type": "execute_result"
    }
   ],
   "source": [
    "SMAUG_DFP(SMAUG128)"
   ]
  },
  {
   "cell_type": "code",
   "execution_count": 6,
   "id": "a0a9f46d",
   "metadata": {},
   "outputs": [
    {
     "data": {
      "text/plain": [
       "(6.2259555825244254954698231819e-42, -136.88268470096137500633818083)"
      ]
     },
     "execution_count": 6,
     "metadata": {},
     "output_type": "execute_result"
    }
   ],
   "source": [
    "SMAUG_DFP(SMAUG192)"
   ]
  },
  {
   "cell_type": "code",
   "execution_count": 7,
   "id": "eebddf9c",
   "metadata": {},
   "outputs": [
    {
     "data": {
      "text/plain": [
       "(2.8410696120469147253039321642e-51, -167.91189865830018259248007564)"
      ]
     },
     "execution_count": 7,
     "metadata": {},
     "output_type": "execute_result"
    }
   ],
   "source": [
    "SMAUG_DFP(SMAUG256)"
   ]
  },
  {
   "cell_type": "code",
   "execution_count": 8,
   "id": "af7097e8",
   "metadata": {},
   "outputs": [
    {
     "data": {
      "text/plain": [
       "(7.7104221457202531189188323916e-11, -33.594399193884657516200360218)"
      ]
     },
     "execution_count": 8,
     "metadata": {},
     "output_type": "execute_result"
    }
   ],
   "source": [
    "TiGER_bit_error_prob(TiGER128)"
   ]
  },
  {
   "cell_type": "code",
   "execution_count": 9,
   "id": "bdac885c",
   "metadata": {},
   "outputs": [
    {
     "data": {
      "text/plain": [
       "(2.9931287036800042706540284064e-8, -24.993770443454086995633112309)"
      ]
     },
     "execution_count": 9,
     "metadata": {},
     "output_type": "execute_result"
    }
   ],
   "source": [
    "TiGER_bit_error_prob(TiGER192)"
   ]
  },
  {
   "cell_type": "code",
   "execution_count": 10,
   "id": "39c696d4",
   "metadata": {},
   "outputs": [
    {
     "data": {
      "text/plain": [
       "(1.9401167486248758157519388562e-10, -32.263137478113680066544798392)"
      ]
     },
     "execution_count": 10,
     "metadata": {},
     "output_type": "execute_result"
    }
   ],
   "source": [
    "TiGER_bit_error_prob(TiGER256)"
   ]
  },
  {
   "cell_type": "code",
   "execution_count": null,
   "id": "58df2204",
   "metadata": {},
   "outputs": [],
   "source": []
  }
 ],
 "metadata": {
  "kernelspec": {
   "display_name": "SageMath 9.5",
   "language": "sage",
   "name": "sagemath"
  },
  "language_info": {
   "codemirror_mode": {
    "name": "ipython",
    "version": 3
   },
   "file_extension": ".py",
   "mimetype": "text/x-python",
   "name": "python",
   "nbconvert_exporter": "python",
   "pygments_lexer": "ipython3",
   "version": "3.10.6"
  }
 },
 "nbformat": 4,
 "nbformat_minor": 5
}
