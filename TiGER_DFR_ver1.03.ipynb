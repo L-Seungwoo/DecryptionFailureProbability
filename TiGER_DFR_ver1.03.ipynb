{
 "cells": [
  {
   "cell_type": "code",
   "execution_count": 6,
   "id": "ad2fac0c",
   "metadata": {},
   "outputs": [],
   "source": [
    "from tqdm.notebook import tqdm, trange\n",
    "RR = RealField(5000)\n",
    "Q.<x> = LaurentPolynomialRing(QQ)\n",
    "sp_t_poly = 1/2*x**-1 + 1/2*x"
   ]
  },
  {
   "cell_type": "code",
   "execution_count": 7,
   "id": "1bc706fa",
   "metadata": {},
   "outputs": [],
   "source": [
    "TiGER256 = {}\n",
    "TiGER256['p'] = 128\n",
    "TiGER256['q'] = 256\n",
    "TiGER256['k1'] = 128 \n",
    "TiGER256['k2'] = 4\n",
    "TiGER256['h_s'] = 198\n",
    "TiGER256['h_r'] = 198\n",
    "TiGER256['h_e'] = 32\n",
    "TiGER256['n'] = 1024\n",
    "TiGER256['f'] = 5\n",
    "TiGER256['thres'] = 256/2\n",
    "\n",
    "TiGER192 = {}\n",
    "TiGER192['p'] = 64\n",
    "TiGER192['q'] = 256\n",
    "TiGER192['k1'] = 64 \n",
    "TiGER192['k2'] = 4\n",
    "TiGER192['h_s'] = 84\n",
    "TiGER192['h_r'] = 84\n",
    "TiGER192['h_e'] = 84\n",
    "TiGER192['n'] = 1024\n",
    "TiGER192['f'] = 5\n",
    "TiGER192['thres'] = 256/2\n",
    "\n",
    "TiGER128 = {}\n",
    "TiGER128['p'] = 128\n",
    "TiGER128['q'] = 256 \n",
    "TiGER128['k1'] = 64 \n",
    "TiGER128['k2'] = 64 \n",
    "TiGER128['h_s'] = 160\n",
    "TiGER128['h_r'] = 128\n",
    "TiGER128['h_e'] = 32\n",
    "TiGER128['n'] = 512\n",
    "TiGER128['f'] = 3\n",
    "TiGER128['thres'] = 256/2"
   ]
  },
  {
   "cell_type": "code",
   "execution_count": 8,
   "id": "838b5cc8",
   "metadata": {},
   "outputs": [],
   "source": [
    "def unif_error_poly_(p, q):\n",
    "    \n",
    "    err_max = int(q/p/2)\n",
    "    err_list = [i for i in range(err_max+1)]\n",
    "    poly = 0\n",
    "    for i in err_list:\n",
    "        if i == 0 :\n",
    "            poly += 2\n",
    "        elif i == err_max :\n",
    "            poly += x**err_max + x**(-err_max)\n",
    "        else :\n",
    "            poly += 2*x**i + 2*x**(-i)\n",
    "    \n",
    "    return poly/poly(1)\n",
    "\n",
    "def dist_of_squared_(poly):\n",
    "    res = 0\n",
    "    for i, expo in enumerate(poly.exponents()):\n",
    "        res += poly.coefficients()[i]*x**(expo**2)\n",
    "    \n",
    "    return res\n",
    "\n",
    "def cumul_binom_(p, n, k):\n",
    "    res = 0\n",
    "    for i in range(k+1):\n",
    "        res += binomial(n, i)*(p**i)*((1-p)**(n-i))\n",
    "        \n",
    "    return res\n",
    "\n",
    "def normalize_poly_(poly):\n",
    "    return poly/(poly(1))\n",
    "\n"
   ]
  },
  {
   "cell_type": "code",
   "execution_count": 9,
   "id": "4fb8014f",
   "metadata": {},
   "outputs": [],
   "source": [
    "def TiGER_DFR(scheme):\n",
    "    n = scheme['n']\n",
    "    p = scheme['p']\n",
    "    q = scheme['q']\n",
    "    k1 = scheme['k1']\n",
    "    k2 = scheme['k2']\n",
    "    h_r = scheme['h_r']\n",
    "    h_e = scheme['h_e']\n",
    "    h_s = scheme['h_s']\n",
    "    f = scheme['f']\n",
    "    thres = scheme['thres']\n",
    "    \n",
    "    uA = unif_error_poly_(p, q)\n",
    "    uA = dist_of_squared_(uA)\n",
    "    uA_norm = uA**n\n",
    "    \n",
    "    uB_p = unif_error_poly_(k1, q)\n",
    "    uB_p = dist_of_squared_(uB_p)\n",
    "    uB_p_norm = uB_p**n\n",
    "    \n",
    "    uB_dp = unif_error_poly_(k2, q)\n",
    "    eB_dp = sp_t_poly*h_e/n+(1-h_e/n)\n",
    "    \n",
    "    g = uB_dp*eB_dp\n",
    "    \n",
    "    var_sA = QQ(h_s/n)\n",
    "    var_sB_p = QQ(h_r/n)\n",
    "    \n",
    "    pfail = 0\n",
    "    \n",
    "    for g_expo in tqdm(g.exponents()):\n",
    "        for uA_norm_expo in tqdm(uA_norm.exponents(), leave=False):\n",
    "            if(uA_norm[uA_norm_expo]<RR(2**-200)): continue\n",
    "            else:\n",
    "                for uB_p_norm_expo in uB_p_norm.exponents():\n",
    "                    if(uB_p_norm[uB_p_norm_expo]<RR(2**-200)): continue\n",
    "                    else :\n",
    "\n",
    "                        std_SC = sqrt(RR(var_sA*(uB_p_norm_expo+h_e)+var_sB_p*uA_norm_expo))\n",
    "                        \n",
    "                        T = RealDistribution('gaussian', std_SC)\n",
    "\n",
    "                        pbitfail = RR(1-T.cum_distribution_function(RR(thres-g_expo))+T.cum_distribution_function(RR(-thres-g_expo)))\n",
    "                        \n",
    "                        pfail +=RR((1-cumul_binom_(pbitfail, n, f)))*uA_norm[uA_norm_expo]*uB_p_norm[uB_p_norm_expo]*g[g_expo]\n",
    "                        \n",
    "                        \n",
    "                        #pfail -= (1-scipy.stats.binom.cdf(correction_bit, n, pbitfail))*poly_uA[i]*poly_uBprime[j]\n",
    "                        \n",
    "                        \n",
    "                        \"\"\"\n",
    "                        print(\"poly_uA[i]: \", poly_uA[i])\n",
    "                        print(\"poly_uBprime[j]: \", poly_uBprime[j])\n",
    "                        print(\"std_SC: \", std_SC)\n",
    "                        print(\"right prob: \", RR(1-(T.cum_distribution_function(thres-g))))\n",
    "                        print(\"left prob: \", T.cum_distribution_function(-thres-g))\n",
    "                        print(\"pbitfail: \", type(pbitfail))\n",
    "                        print(\"cumul_binom: \", cumul_binom)\n",
    "                        print(\"\")\n",
    "                        \"\"\"\n",
    "                        \n",
    "    return [RR(pfail).n(1000), RR(log(RR(pfail)),2).n(1000)]"
   ]
  },
  {
   "cell_type": "code",
   "execution_count": 10,
   "id": "f659f318",
   "metadata": {},
   "outputs": [
    {
     "data": {
      "application/vnd.jupyter.widget-view+json": {
       "model_id": "85965a7a307641dd9b6d4812698acb45",
       "version_major": 2,
       "version_minor": 0
      },
      "text/plain": [
       "  0%|          | 0/7 [00:00<?, ?it/s]"
      ]
     },
     "metadata": {},
     "output_type": "display_data"
    },
    {
     "data": {
      "application/vnd.jupyter.widget-view+json": {
       "model_id": "",
       "version_major": 2,
       "version_minor": 0
      },
      "text/plain": [
       "  0%|          | 0/513 [00:00<?, ?it/s]"
      ]
     },
     "metadata": {},
     "output_type": "display_data"
    },
    {
     "data": {
      "application/vnd.jupyter.widget-view+json": {
       "model_id": "",
       "version_major": 2,
       "version_minor": 0
      },
      "text/plain": [
       "  0%|          | 0/513 [00:00<?, ?it/s]"
      ]
     },
     "metadata": {},
     "output_type": "display_data"
    },
    {
     "data": {
      "application/vnd.jupyter.widget-view+json": {
       "model_id": "",
       "version_major": 2,
       "version_minor": 0
      },
      "text/plain": [
       "  0%|          | 0/513 [00:00<?, ?it/s]"
      ]
     },
     "metadata": {},
     "output_type": "display_data"
    },
    {
     "data": {
      "application/vnd.jupyter.widget-view+json": {
       "model_id": "",
       "version_major": 2,
       "version_minor": 0
      },
      "text/plain": [
       "  0%|          | 0/513 [00:00<?, ?it/s]"
      ]
     },
     "metadata": {},
     "output_type": "display_data"
    },
    {
     "data": {
      "application/vnd.jupyter.widget-view+json": {
       "model_id": "",
       "version_major": 2,
       "version_minor": 0
      },
      "text/plain": [
       "  0%|          | 0/513 [00:00<?, ?it/s]"
      ]
     },
     "metadata": {},
     "output_type": "display_data"
    },
    {
     "data": {
      "application/vnd.jupyter.widget-view+json": {
       "model_id": "",
       "version_major": 2,
       "version_minor": 0
      },
      "text/plain": [
       "  0%|          | 0/513 [00:00<?, ?it/s]"
      ]
     },
     "metadata": {},
     "output_type": "display_data"
    },
    {
     "data": {
      "application/vnd.jupyter.widget-view+json": {
       "model_id": "",
       "version_major": 2,
       "version_minor": 0
      },
      "text/plain": [
       "  0%|          | 0/513 [00:00<?, ?it/s]"
      ]
     },
     "metadata": {},
     "output_type": "display_data"
    },
    {
     "data": {
      "text/plain": [
       "[8.84444270194531022696241013296063766943406097727643392057798775619453718400272567156325799244375817187773398203790669855722898829527911807096005808121643805850768588378667279811277934100224488855365604225410103087570803597074925606812535760278835995033612534735194453395228322009825356228337268003371e-38,\n",
       " -85.3184442152758712212565750953053130094566938372150399007577412636938322325150897642516307939604434999880868463689623455994270641094230386718675557616562691275014137375342790070496453411883339475730470862594635976879738178939921485947223426005846959695074580005149383803456654229338601224618859888155]"
      ]
     },
     "execution_count": 10,
     "metadata": {},
     "output_type": "execute_result"
    }
   ],
   "source": [
    "TiGER_DFR(TiGER128)"
   ]
  },
  {
   "cell_type": "code",
   "execution_count": 11,
   "id": "7579c36c",
   "metadata": {},
   "outputs": [],
   "source": [
    "#TiGER_DFR(TiGER192)"
   ]
  },
  {
   "cell_type": "code",
   "execution_count": 12,
   "id": "a78c3d94",
   "metadata": {},
   "outputs": [],
   "source": [
    "#TiGER_DFR(TiGER256)"
   ]
  },
  {
   "cell_type": "code",
   "execution_count": null,
   "id": "890ae35b",
   "metadata": {},
   "outputs": [],
   "source": []
  }
 ],
 "metadata": {
  "kernelspec": {
   "display_name": "SageMath 9.5",
   "language": "sage",
   "name": "sagemath"
  },
  "language_info": {
   "codemirror_mode": {
    "name": "ipython",
    "version": 3
   },
   "file_extension": ".py",
   "mimetype": "text/x-python",
   "name": "python",
   "nbconvert_exporter": "python",
   "pygments_lexer": "ipython3",
   "version": "3.10.6"
  }
 },
 "nbformat": 4,
 "nbformat_minor": 5
}
